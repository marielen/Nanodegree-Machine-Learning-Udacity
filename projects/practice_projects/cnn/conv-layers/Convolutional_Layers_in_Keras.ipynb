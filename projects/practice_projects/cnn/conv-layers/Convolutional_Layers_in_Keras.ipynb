{
 "cells": [
  {
   "cell_type": "markdown",
   "metadata": {},
   "source": [
    "# Convolutional Layers in Keras\n",
    "To create a convolutional layer in Keras, you must first import the necessary module:"
   ]
  },
  {
   "cell_type": "code",
   "execution_count": 2,
   "metadata": {
    "ExecuteTime": {
     "end_time": "2018-03-06T12:26:37.164058Z",
     "start_time": "2018-03-06T12:26:34.879955Z"
    }
   },
   "outputs": [
    {
     "name": "stderr",
     "output_type": "stream",
     "text": [
      "Using TensorFlow backend.\n"
     ]
    }
   ],
   "source": [
    "from keras.layers import Conv2D"
   ]
  },
  {
   "cell_type": "markdown",
   "metadata": {},
   "source": [
    "Then, you can create a convolutional layer by using the following format:"
   ]
  },
  {
   "cell_type": "markdown",
   "metadata": {
    "ExecuteTime": {
     "end_time": "2018-03-06T12:15:07.303653Z",
     "start_time": "2018-03-06T12:15:07.296634Z"
    }
   },
   "source": [
    "```python\n",
    "Conv2D(filters, kernel_size, strides, padding, activation='relu', input_shape)\n",
    "```"
   ]
  },
  {
   "cell_type": "markdown",
   "metadata": {
    "ExecuteTime": {
     "end_time": "2018-03-06T11:40:52.882752Z",
     "start_time": "2018-03-06T11:40:52.871742Z"
    }
   },
   "source": [
    "## Arguments\n",
    "You must pass the following arguments:\n",
    "\n",
    "- `filters` - The number of filters.\n",
    "- `kernel_size` - Number specifying both the height and width of the (square) convolution window.\n",
    "\n",
    "There are some additional, optional arguments that you might like to tune:\n",
    "\n",
    "- `strides` - The stride of the convolution. If you don't specify anything, `strides` is set to `1`.\n",
    "- `padding` - One of `'valid'` or `'same'`. If you don't specify anything, padding is set to `'valid'`.\n",
    "- `activation` - Typically `'relu'`. If you don't specify anything, no activation is applied. You are **strongly encouraged** to add a ReLU activation function to **every** convolutional layer in your networks.\n",
    "\n",
    "### NOTE: It is possible to represent both `kernel_size` and `strides` as either a number or a tuple.\n",
    "\n",
    "When using your convolutional layer as the first layer (appearing after the input layer) in a model, you must provide an additional `input_shape` argument:\n",
    "\n",
    "- `input_shape` - Tuple specifying the height, width, and depth (in that order) of the input.\n",
    "\n",
    "### NOTE: Do not include the `input_shape` argument if the convolutional layer is not the first layer in your network.\n",
    "\n",
    "There are many other tunable arguments that you can set to change the behavior of your convolutional layers. To read more about these, we recommend perusing the official [documentation](https://keras.io/layers/convolutional/)."
   ]
  },
  {
   "cell_type": "markdown",
   "metadata": {
    "collapsed": true
   },
   "source": [
    "## Example #1\n",
    "Say I'm constructing a CNN, and my input layer accepts grayscale images that are *00 by 200 pixels (corresponding to a 3D array with **height 200, width 200, and depth 1**). Then, say I'd like the next layer to be a convolutional layer with **16 filters**, each with a **width and height of 2**. When performing the convolution, I'd like the filter to **jump two pixels** at a time. I also don't want the filter to extend outside of the image boundaries; in other words, **I don't want to pad the image with zeros**. Then, to construct this convolutional layer, I would use the following line of code:"
   ]
  },
  {
   "cell_type": "code",
   "execution_count": 3,
   "metadata": {
    "ExecuteTime": {
     "end_time": "2018-03-06T12:26:40.139220Z",
     "start_time": "2018-03-06T12:26:40.127688Z"
    }
   },
   "outputs": [
    {
     "data": {
      "text/plain": [
       "<keras.layers.convolutional.Conv2D at 0x15a761dbb70>"
      ]
     },
     "execution_count": 3,
     "metadata": {},
     "output_type": "execute_result"
    }
   ],
   "source": [
    "Conv2D(filters = 16, kernel_size = 2, strides = 2, activation='relu', input_shape=(200,200,1))"
   ]
  },
  {
   "cell_type": "markdown",
   "metadata": {},
   "source": [
    "## Example #2\n",
    "\n",
    "Say I'd like the next layer in my CNN to be a convolutional layer that takes the layer constructed in Example 1 as input. Say I'd like my new layer to have **32 filters**, each with a **height and width of 3**. When performing the convolution, I'd like the filter to **jump 1 pixel at a time**. I want the convolutional layer to see all regions of the previous layer, and so **I don't mind if the filter hangs over the edge of the previous layer when it's performing the convolution**. Then, to construct this convolutional layer, I would use the following line of code:"
   ]
  },
  {
   "cell_type": "code",
   "execution_count": 4,
   "metadata": {
    "ExecuteTime": {
     "end_time": "2018-03-06T12:29:35.125688Z",
     "start_time": "2018-03-06T12:29:35.120176Z"
    }
   },
   "outputs": [
    {
     "data": {
      "text/plain": [
       "<keras.layers.convolutional.Conv2D at 0x15a761dbb00>"
      ]
     },
     "execution_count": 4,
     "metadata": {},
     "output_type": "execute_result"
    }
   ],
   "source": [
    "Conv2D(filters = 32, kernel_size = 3, padding = 'same', activation='relu')"
   ]
  },
  {
   "cell_type": "markdown",
   "metadata": {
    "ExecuteTime": {
     "end_time": "2018-03-06T12:29:50.031656Z",
     "start_time": "2018-03-06T12:29:50.024136Z"
    }
   },
   "source": [
    "## Example #3\n",
    "If you look up code online, it is also common to see convolutional layers in Keras in this format:"
   ]
  },
  {
   "cell_type": "code",
   "execution_count": 6,
   "metadata": {
    "ExecuteTime": {
     "end_time": "2018-03-06T12:30:06.044543Z",
     "start_time": "2018-03-06T12:30:06.040041Z"
    }
   },
   "outputs": [
    {
     "data": {
      "text/plain": [
       "<keras.layers.convolutional.Conv2D at 0x15a761f94a8>"
      ]
     },
     "execution_count": 6,
     "metadata": {},
     "output_type": "execute_result"
    }
   ],
   "source": [
    "Conv2D(64, (2,2), activation='relu')"
   ]
  },
  {
   "cell_type": "markdown",
   "metadata": {},
   "source": [
    "In this case, there are 64 filters, each with a size of 2x2, and the layer has a ReLU activation function. The other arguments in the layer use the default values, so the convolution uses a stride of 1, and the padding has been set to `'valid'`."
   ]
  }
 ],
 "metadata": {
  "kernelspec": {
   "display_name": "Python 3",
   "language": "python",
   "name": "python3"
  },
  "language_info": {
   "codemirror_mode": {
    "name": "ipython",
    "version": 3
   },
   "file_extension": ".py",
   "mimetype": "text/x-python",
   "name": "python",
   "nbconvert_exporter": "python",
   "pygments_lexer": "ipython3",
   "version": "3.6.3"
  },
  "toc": {
   "nav_menu": {},
   "number_sections": true,
   "sideBar": true,
   "skip_h1_title": false,
   "title_cell": "Table of Contents",
   "title_sidebar": "Contents",
   "toc_cell": false,
   "toc_position": {
    "height": "calc(100% - 180px)",
    "left": "10px",
    "top": "150px",
    "width": "384px"
   },
   "toc_section_display": true,
   "toc_window_display": false
  },
  "varInspector": {
   "cols": {
    "lenName": 16,
    "lenType": 16,
    "lenVar": 40
   },
   "kernels_config": {
    "python": {
     "delete_cmd_postfix": "",
     "delete_cmd_prefix": "del ",
     "library": "var_list.py",
     "varRefreshCmd": "print(var_dic_list())"
    },
    "r": {
     "delete_cmd_postfix": ") ",
     "delete_cmd_prefix": "rm(",
     "library": "var_list.r",
     "varRefreshCmd": "cat(var_dic_list()) "
    }
   },
   "types_to_exclude": [
    "module",
    "function",
    "builtin_function_or_method",
    "instance",
    "_Feature"
   ],
   "window_display": false
  }
 },
 "nbformat": 4,
 "nbformat_minor": 2
}
